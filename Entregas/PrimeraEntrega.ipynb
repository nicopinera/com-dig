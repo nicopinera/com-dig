{
 "cells": [
  {
   "cell_type": "markdown",
   "id": "bbad73b6",
   "metadata": {},
   "source": [
    "# Trabajo practico integrado Comunicaciones digitales\n",
    "Alumnos:\n",
    "- Krede Julian\n",
    "- Piñera, Nicolas\n",
    "\n",
    "---\n"
   ]
  },
  {
   "cell_type": "markdown",
   "id": "f8e45503",
   "metadata": {},
   "source": [
    "## Introduccion: "
   ]
  },
  {
   "cell_type": "markdown",
   "id": "7db24711",
   "metadata": {},
   "source": [
    "Este trabajo práctico tiene como objetivo estudiar el funcionamiento del sistema de comunicación LoRaWAN el cual es una red de tipo LPWAN (Low Power Wide Area Network), la cual utiliza LoRa (Long Range) como su tecnología de modulación.\n",
    "\n",
    "Una LPWAN es una red de telecomunicaciones diseñada específicamente para la comunicación de dispositivos que requieren cobertura de largo alcance y bajo consumo energético, características fundamentales en aplicaciones de Internet de las Cosas (IoT).\n",
    "\n",
    "Con el fin de analizar en profundidad este sistema, se propone la lectura y el estudio de dos artículos científicos:\n",
    "1. **\"Frequency Shift Chirp Modulation: The LoRa Modulation\"** – Lorenzo Vangelista\n",
    "2. **\"From Demodulation to Decoding: Toward Complete LoRa PHY Understanding and Implementation\"** – Zhenqiang Xu, Shuai Tong, Pengjin Xie y Jiliang Wang\n",
    "\n",
    "A partir del análisis de estos trabajos, se derivan los siguientes resultados y conclusiones sobre el sistema de modulación y funcionamiento de la capa física (PHY) en LoRaWAN."
   ]
  },
  {
   "cell_type": "code",
   "execution_count": 1,
   "id": "d1563a40",
   "metadata": {},
   "outputs": [],
   "source": [
    "## Librerias a utilizar\n",
    "import numpy as np\n",
    "import matplotlib.pyplot as plt"
   ]
  },
  {
   "cell_type": "markdown",
   "id": "9cb134ad",
   "metadata": {},
   "source": [
    "## Codificador y Decodificador"
   ]
  },
  {
   "cell_type": "markdown",
   "id": "09bcf83e",
   "metadata": {},
   "source": [
    "### 1. Codificador"
   ]
  },
  {
   "cell_type": "markdown",
   "id": "4e765b48",
   "metadata": {},
   "source": [
    "La codificación propuesta se realiza mediante el polinomio de numeración posicional en base 2. Para ello, se requiere la elección de un parámetro conocido como **_Spreading Factor_ ($SF$)**, el cual puede tomar los siguientes valores: $\\{7,8,9,10,11,12\\}$. Este parámetro representa la cantidad de dígitos binarios que conforman un símbolo.\n",
    "\n",
    "Para generar un símbolo, se utiliza la siguiente ecuación:\n",
    "\n",
    "$$\\Large s(nT_s) = \\sum_{h=0}^{\\text{SF}-1} \\text{w}(nT_s)_h \\cdot 2^h$$\n",
    "\n",
    "Donde:\n",
    "- $s(nT_s)$ Representa el simbolo resultante\n",
    "- $\\text{w}(nT_s)_h$ Es el digito binario en la posicion $h$\n",
    "- $2^h$ Es el peso del digito binario, en funcion de la posicion del mismo\n",
    "- $T_s$ es el período de un símbolo\n",
    "- $n$ es el índice del símbolo que indica la posición temporal dentro de la secuencia.\n",
    "\n",
    "Por ejemplo, si se tiene un $SF=8$ y se desea codificar el dato $[0\\ 1\\ 1\\ 1\\ 1\\ 0\\ 0\\ 0]$:\n",
    "\n",
    "$$\n",
    "s(nT_s) = \\sum_{h=0}^{7} \\text{w}(nT_s)_h \\cdot 2^h = 0 \\times 2^7 + 1 \\times 2^6 + 1 \\times 2^5 + 1 \\times 2^4 + 1 \\times 2^3 + 0 \\times 2^2 + 0 \\times 2^1 + 0 \\times 2^0 = 120\n",
    "$$"
   ]
  },
  {
   "cell_type": "markdown",
   "id": "6a427753",
   "metadata": {},
   "source": [
    "A continuacion, se realiza el generador de bits con una distribucion de probabilidad uniforme, que recibe por parametro la cantidad de bits a generar. "
   ]
  },
  {
   "cell_type": "code",
   "execution_count": 2,
   "id": "b3e5089c",
   "metadata": {},
   "outputs": [],
   "source": [
    "# Generador de bits aleatorios\n",
    "def generate_random_bits(total_bits):\n",
    "    \"\"\"\n",
    "    Genera un vector de bits aleatorios (0 y 1) de longitud especificada.\n",
    "\n",
    "    Args:\n",
    "        cantidad_Bits (int): Cantidad de bits a generar.\n",
    "\n",
    "    Returns:\n",
    "        bits_transmitidos: Vector de bits aleatorios (0 y 1).\n",
    "    \"\"\"\n",
    "    return np.random.randint(0, 2, total_bits)"
   ]
  },
  {
   "cell_type": "markdown",
   "id": "b35de20f",
   "metadata": {},
   "source": [
    "Luego se realiza la funcion que se va a encargar de codificaro los bits generados en simbolos a transmitir, por medio de la ecuacion presentada en el documento. Este codificador recibe por parametro los bits generados y el SF (Spreading Factor)"
   ]
  },
  {
   "cell_type": "code",
   "execution_count": 10,
   "id": "a93910c3",
   "metadata": {},
   "outputs": [],
   "source": [
    "def codificador(SF, bits_transmitidos):\n",
    "    \"\"\"\n",
    "    Codifica un señal binaria mediante el polinomio de numeración posicional en base 2 \n",
    "\n",
    "    Args:\n",
    "        SF (int): Spreading Factor\n",
    "        bits_transmitidos (array): Vector de bits a transmitir\n",
    "\n",
    "    Returns:\n",
    "        numero_de_simbolos (int): Cantidad de simbolos codificados\n",
    "        simbolos (array): vector de simbolos codificados\n",
    "    \"\"\"\n",
    "    cantidad_Bits = len(bits_transmitidos) # Cantidad de bits transmitidos\n",
    "    \n",
    "    # Numero de simbolos a transmitir\n",
    "    numero_de_simbolos = cantidad_Bits // SF\n",
    "\n",
    "    # Vector de ceros con la longitud de la cantidad de simbolos\n",
    "    simbolos = np.zeros(numero_de_simbolos, dtype=int)\n",
    "\n",
    "    # Sumatoria - Ecuacion 1\n",
    "    ## Simbolo i\n",
    "    for i in range(numero_de_simbolos):\n",
    "\n",
    "        # de 0 hasta SF-1\n",
    "        for h in range(SF):\n",
    "            \"Toma bits dentro de un bloque de bits de largo SF\"\n",
    "            \"Luego se suma cada bit con su peso para obtener el valor decimal del simbolo a transmitir\"\n",
    "\n",
    "            bit = bits_transmitidos[i * SF + h]\n",
    "            simbolos[i] += bit * (2**h)  # Conversion a decimal\n",
    "\n",
    "    return numero_de_simbolos, simbolos"
   ]
  },
  {
   "cell_type": "markdown",
   "id": "fa08d836",
   "metadata": {},
   "source": [
    "### 2. Decodificador"
   ]
  },
  {
   "cell_type": "markdown",
   "id": "c0dfab19",
   "metadata": {},
   "source": [
    "El decodificador implementa el algoritmo de divisiones sucesivas por 2 para recuperar el dato a partir del símbolo recibido. \n",
    "\n",
    "El procedimiento consiste en dividir el número original entre 2 de forma repetida. En cada división, se registra el residuo o módulo (que siempre será 0 o 1), y se reemplaza el número por el cociente entero obtenido. \n",
    "\n",
    "Este proceso se repite hasta que el cociente sea igual a cero. Finalmente, el número binario se construye leyendo los residuos en orden inverso al que fueron generados; es decir, desde el último hasta el primero.\n",
    "\n",
    "$$\\large \\mathbf{w}(nT_s)_h = \\left( \\left\\lfloor \\frac{s(nT_s)}{2^h} \\right\\rfloor \\bmod 2 \\right), \\quad h = 0, 1, \\dots, SF - 1$$\n",
    "\n",
    "$$\\mathbf{w}(nT_s) = \\left[\n",
    "\\left\\lfloor \\frac{s(nT_s)}{2^0} \\right\\rfloor \\bmod 2,\\ \n",
    "\\left\\lfloor \\frac{s(nT_s)}{2^1} \\right\\rfloor \\bmod 2,\\ \n",
    "\\ldots,\\ \n",
    "\\left\\lfloor \\frac{s(nT_s)}{2^{SF - 1}} \\right\\rfloor \\bmod 2\n",
    "\\right]$$"
   ]
  },
  {
   "cell_type": "code",
   "execution_count": 4,
   "id": "f9bd45bb",
   "metadata": {},
   "outputs": [],
   "source": [
    "def decodificador(simbolos_rx, SF=8):\n",
    "    \"\"\"Decodifica una señal binaria mediante el polinomio de numeración posicional en base 2 \n",
    "    \n",
    "    Args:\n",
    "        SF (int, optional): Spreading factor valor entero que representa la cantidad de bits que componen un simbolo codificado puede tomar valores [7,12]. Defaults to 8.\n",
    "        simbolos_rx (_type_, optional): _description_. Defaults to None.\n",
    "        \n",
    "    Returns:\n",
    "        bits_rx (np.ndarray): Vector plano de bits decodificados.\n",
    "    \"\"\"\n",
    "    if(SF < 7 or SF > 12):\n",
    "        raise ValueError(\"El Spreading Factor debe ser un valor entero entre 7 y 12\")\n",
    "    \n",
    "    bits_rx = []\n",
    "\n",
    "    for simbolo in simbolos_rx: # Se toma cada simbolo\n",
    "        bits = []\n",
    "        for _ in range(SF): # Se repite la division por 2 hasta SF-1\n",
    "            bits.append(simbolo % 2)\n",
    "            simbolo = simbolo//2\n",
    "        bits_rx.extend(bits)  # Agrega los bits en orden LSB a MSB\n",
    "\n",
    "    return np.array(bits_rx, dtype=int)  # Asegura que sea un array plano de enteros\n"
   ]
  },
  {
   "cell_type": "markdown",
   "id": "aa3b1e35",
   "metadata": {},
   "source": [
    "### 3. Bit error rate"
   ]
  },
  {
   "cell_type": "markdown",
   "id": "70a70c1a",
   "metadata": {},
   "source": [
    "El _Bit Error Rate_ (BER) representa la proporción de bits recibidos con error respecto al total de bits transmitidos. Se calcula de la siguiente forma:\n",
    "\n",
    "$$BER=\\frac{\\text{número de bits erróneos}}{\\text{total de bits transmitidos}}$$\n",
    "\n",
    "Por no haber presencia de ruido, el BER de esta primera parte tiene que dar 0%"
   ]
  },
  {
   "cell_type": "code",
   "execution_count": 5,
   "id": "f2d4df05",
   "metadata": {},
   "outputs": [],
   "source": [
    "def calculador_ber(bits_tx, bits_rx):\n",
    "    \"\"\"Calcula la tasa de error de bit (BER) entre los bits transmitidos y recibidos.\n",
    "\n",
    "    Args:\n",
    "        bits_tx (list): Arreglo unidimensional de bits transmitidos.\n",
    "        bits_rx (list): Arreglo unidimensional de bits recibidos.\n",
    "\n",
    "    Returns:\n",
    "        float: Tasa de error de bit (BER).\n",
    "    \"\"\"\n",
    "    if len(bits_tx) != len(bits_rx):\n",
    "        raise ValueError(\"Los arreglos de bits transmitidos y recibidos deben tener la misma longitud.\")\n",
    "    \n",
    "    errores = np.sum(bits_tx != bits_rx)\n",
    "    ber = errores / len(bits_tx)\n",
    "    \n",
    "    return ber"
   ]
  },
  {
   "cell_type": "markdown",
   "id": "f0a1a8ce",
   "metadata": {},
   "source": [
    "### 4. Ejemplo"
   ]
  },
  {
   "cell_type": "markdown",
   "id": "21d2cd5a",
   "metadata": {},
   "source": [
    "A continuacion se realiza un ejemplo de como quedaria una codificacion, decodificaion y el calculo del **BER**"
   ]
  },
  {
   "cell_type": "code",
   "execution_count": 6,
   "id": "4beac4bf",
   "metadata": {},
   "outputs": [],
   "source": [
    "# Parametros\n",
    "SF = 8\n",
    "cant_simbolos = 11\n",
    "total_bits = SF * cant_simbolos"
   ]
  },
  {
   "cell_type": "code",
   "execution_count": 7,
   "id": "73992358",
   "metadata": {},
   "outputs": [
    {
     "name": "stdout",
     "output_type": "stream",
     "text": [
      "------------------------------\n",
      "Primeros 20 bits a transmitir:  [1 0 1 1 0 0 1 1 1 0 0 0 0 0 0 1 1 0 1 1]\n",
      "------------------------------\n"
     ]
    }
   ],
   "source": [
    "# Generación de bits aleatorios\n",
    "bits_tx = generate_random_bits(total_bits)\n",
    "print(\"---\" * 10)\n",
    "print(\"Primeros 20 bits a transmitir: \", bits_tx[0:20])\n",
    "print(\"---\" * 10)"
   ]
  },
  {
   "cell_type": "code",
   "execution_count": 11,
   "id": "ff7b77ac",
   "metadata": {},
   "outputs": [
    {
     "name": "stdout",
     "output_type": "stream",
     "text": [
      "------------------------------\n",
      "Cantidad de simbolos detectados:  11\n",
      "Primeros 10 simbolos:  [205 129 253 135 249 221  44 196 247  43  47]\n",
      "------------------------------\n"
     ]
    }
   ],
   "source": [
    "numero_simbolos, simbolos = codificador(SF, bits_tx)\n",
    "print(\"---\" * 10)\n",
    "print(\"Cantidad de simbolos detectados: \", numero_simbolos)\n",
    "print(\"Primeros 10 simbolos: \", simbolos[0:numero_simbolos])\n",
    "print(\"---\" * 10)"
   ]
  },
  {
   "cell_type": "code",
   "execution_count": 12,
   "id": "79d91ade",
   "metadata": {},
   "outputs": [
    {
     "name": "stdout",
     "output_type": "stream",
     "text": [
      "------------------------------\n",
      "Primeros 20 bits recibidos:  [1 0 1 1 0 0 1 1 1 0 0 0 0 0 0 1 1 0 1 1]\n",
      "------------------------------\n"
     ]
    }
   ],
   "source": [
    "# Decodificaion de simbolos\n",
    "bits_rx = decodificador(simbolos, SF)\n",
    "print(\"---\" * 10)\n",
    "print(\"Primeros 20 bits recibidos: \", bits_rx[0:20])\n",
    "print(\"---\" * 10)"
   ]
  },
  {
   "cell_type": "code",
   "execution_count": null,
   "id": "ef846412",
   "metadata": {},
   "outputs": [
    {
     "name": "stdout",
     "output_type": "stream",
     "text": [
      "---------------\n",
      "Bits originales (muestra):    [1 0 1 1 0 0 1 1 1 0 0 0 0 0 0 1]\n",
      "Bits decodificados (muestra): [1 0 1 1 0 0 1 1 1 0 0 0 0 0 0 1]\n",
      "La tasa de error de bit (BER) es:  0.0 %\n"
     ]
    }
   ],
   "source": [
    "print(\"---\" * 10)\n",
    "print(\"Bits originales (muestra):   \", bits_tx[: 2 * SF])\n",
    "print(\"Bits decodificados (muestra):\", bits_rx[: 2 * SF])\n",
    "print(\"La tasa de error de bit (BER) es: \", calculador_ber(bits_tx, bits_rx)*100, \"%\")\n",
    "print(\"---\" * 10)"
   ]
  }
 ],
 "metadata": {
  "kernelspec": {
   "display_name": "base",
   "language": "python",
   "name": "python3"
  },
  "language_info": {
   "codemirror_mode": {
    "name": "ipython",
    "version": 3
   },
   "file_extension": ".py",
   "mimetype": "text/x-python",
   "name": "python",
   "nbconvert_exporter": "python",
   "pygments_lexer": "ipython3",
   "version": "3.12.7"
  }
 },
 "nbformat": 4,
 "nbformat_minor": 5
}
